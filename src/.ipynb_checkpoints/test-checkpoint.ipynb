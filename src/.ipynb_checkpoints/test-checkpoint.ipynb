{
 "cells": [
  {
   "cell_type": "code",
   "execution_count": 15,
   "id": "04cca5eb-f931-4bca-9767-9a136ce0f40f",
   "metadata": {},
   "outputs": [],
   "source": [
    "from graphNN_hic_likelihood import *\n",
    "import matplotlib.pyplot as plt"
   ]
  },
  {
   "cell_type": "code",
   "execution_count": 3,
   "id": "062e2a65-90d7-495b-912f-a7df8182f699",
   "metadata": {},
   "outputs": [
    {
     "data": {
      "text/plain": [
       "True"
      ]
     },
     "execution_count": 3,
     "metadata": {},
     "output_type": "execute_result"
    }
   ],
   "source": [
    "torch.cuda.is_available()"
   ]
  },
  {
   "cell_type": "code",
   "execution_count": 4,
   "id": "1dcf81e3-ced7-46e1-a40d-3194e407f564",
   "metadata": {},
   "outputs": [],
   "source": [
    "device = 'cuda'"
   ]
  },
  {
   "cell_type": "code",
   "execution_count": 5,
   "id": "7a31b06c-69d9-4039-8148-48a3f77e9e9e",
   "metadata": {},
   "outputs": [
    {
     "name": "stdout",
     "output_type": "stream",
     "text": [
      "\n",
      "=============================\n",
      "Data Loading...\n",
      "Number of data Loaded: 240\n",
      "Number of training set: 192\n",
      "Number of validation set: 48\n",
      "====================\n",
      "Number of train data combined: 192\n",
      "Number of vali data combined: 48\n",
      "\n",
      "\n",
      "====================\n",
      "Building training graphs... \n",
      "  batch_size: 32\n",
      "Building vali graphs... \n",
      "  batch_size: 32\n"
     ]
    }
   ],
   "source": [
    "train_graphs, train_names, vali_graphs, vali_names, train_loader, vali_loader = \\\n",
    "read_data(\n",
    "        [\"../dataset/train_data_madeup\"],\n",
    "        device=device,\n",
    "        converage_required_flag=True,\n",
    "        debug_flag=DEBUG)"
   ]
  },
  {
   "cell_type": "code",
   "execution_count": 5,
   "id": "7189f2dd-40fe-4670-be67-d9538cb34fce",
   "metadata": {},
   "outputs": [
    {
     "data": {
      "text/plain": [
       "[DataBatch(x=[455, 74], edge_index=[2, 762], edge_attr=[762, 5], truth=[3565, 4], edge_index_test=[2, 3565], new_node_idx_to_original_idx=[455], batch=[455], ptr=[33]),\n",
       " DataBatch(x=[489, 74], edge_index=[2, 883], edge_attr=[883, 5], truth=[4111, 4], edge_index_test=[2, 4111], new_node_idx_to_original_idx=[489], batch=[489], ptr=[33]),\n",
       " DataBatch(x=[476, 74], edge_index=[2, 829], edge_attr=[829, 5], truth=[3864, 4], edge_index_test=[2, 3864], new_node_idx_to_original_idx=[476], batch=[476], ptr=[33]),\n",
       " DataBatch(x=[398, 74], edge_index=[2, 593], edge_attr=[593, 5], truth=[2805, 4], edge_index_test=[2, 2805], new_node_idx_to_original_idx=[398], batch=[398], ptr=[33]),\n",
       " DataBatch(x=[470, 74], edge_index=[2, 819], edge_attr=[819, 5], truth=[3830, 4], edge_index_test=[2, 3830], new_node_idx_to_original_idx=[470], batch=[470], ptr=[33]),\n",
       " DataBatch(x=[413, 74], edge_index=[2, 584], edge_attr=[584, 5], truth=[2760, 4], edge_index_test=[2, 2760], new_node_idx_to_original_idx=[413], batch=[413], ptr=[33])]"
      ]
     },
     "execution_count": 5,
     "metadata": {},
     "output_type": "execute_result"
    }
   ],
   "source": [
    "train_graphs"
   ]
  },
  {
   "cell_type": "code",
   "execution_count": 5,
   "id": "3b47787e-b4d4-4c5b-8bc4-c29c6521dacc",
   "metadata": {},
   "outputs": [],
   "source": [
    "dataset = CompressedHicFragDataSet([\"../dataset/train_data_madeup\"], \n",
    "                                   coverage_required_flag=True, \n",
    "                                   madeup_flag=True, debug_flag=True)"
   ]
  },
  {
   "cell_type": "code",
   "execution_count": 6,
   "id": "69817255-10d6-4342-98f1-8146a46cca51",
   "metadata": {},
   "outputs": [
    {
     "data": {
      "text/plain": [
       "CompressedHicFragDataSet: 20 samples."
      ]
     },
     "execution_count": 6,
     "metadata": {},
     "output_type": "execute_result"
    }
   ],
   "source": [
    "dataset"
   ]
  },
  {
   "cell_type": "code",
   "execution_count": 7,
   "id": "3379d2fe-6bd1-41ca-8be9-5b2256340e86",
   "metadata": {},
   "outputs": [],
   "source": [
    "hicMx, fragID, scaffID, \\\n",
    "        names, nFrags, frag_lens, \\\n",
    "        distance_mx, likelihood_mx, frag_coverage, \\\n",
    "        frag_start_loc_relative, frag_masss_center_relative, \\\n",
    "        frag_average_density_global, frag_average_hic_interaction, coverage_flag, \\\n",
    "        repeat_density_flag, frag_repeats_density, total_len_in_pixel = next(iter(dataset))"
   ]
  },
  {
   "cell_type": "code",
   "execution_count": 13,
   "id": "f9251900-2454-4cd4-a76c-198ff69987ba",
   "metadata": {},
   "outputs": [
    {
     "data": {
      "text/plain": [
       "(torch.Size([4, 1024, 1024]), torch.Size([1024]), torch.Size([1024]))"
      ]
     },
     "execution_count": 13,
     "metadata": {},
     "output_type": "execute_result"
    }
   ],
   "source": [
    "hicMx.shape, fragID.shape, scaffID.shape"
   ]
  },
  {
   "cell_type": "code",
   "execution_count": 8,
   "id": "6745c969-161d-4d0f-b57b-fdbb6929d944",
   "metadata": {},
   "outputs": [
    {
     "data": {
      "text/plain": [
       "tensor([14,  8,  7,  ...,  0,  0,  0])"
      ]
     },
     "execution_count": 8,
     "metadata": {},
     "output_type": "execute_result"
    }
   ],
   "source": [
    "fragID"
   ]
  },
  {
   "cell_type": "code",
   "execution_count": 14,
   "id": "8a76dffb-e8e5-40d9-8528-264d5c1bbcdb",
   "metadata": {},
   "outputs": [
    {
     "data": {
      "text/plain": [
       "('chm13_1_normal_numCuts3_numRepeat44', 19, torch.Size([1024]))"
      ]
     },
     "execution_count": 14,
     "metadata": {},
     "output_type": "execute_result"
    }
   ],
   "source": [
    "names, nFrags, frag_lens.shape"
   ]
  },
  {
   "cell_type": "code",
   "execution_count": 15,
   "id": "0577c245-9c66-48d9-955e-4895f2e524ac",
   "metadata": {},
   "outputs": [
    {
     "data": {
      "text/plain": [
       "torch.Size([1024])"
      ]
     },
     "execution_count": 15,
     "metadata": {},
     "output_type": "execute_result"
    }
   ],
   "source": [
    "frag_lens.shape"
   ]
  },
  {
   "cell_type": "code",
   "execution_count": 19,
   "id": "9a975ff8-9ccf-47af-8574-e1c3170b5e77",
   "metadata": {},
   "outputs": [
    {
     "data": {
      "text/plain": [
       "19"
      ]
     },
     "execution_count": 19,
     "metadata": {},
     "output_type": "execute_result"
    }
   ],
   "source": [
    "nFrags"
   ]
  },
  {
   "cell_type": "code",
   "execution_count": 20,
   "id": "064dde9e-5c8f-49eb-bcd5-944276405bd9",
   "metadata": {},
   "outputs": [
    {
     "data": {
      "text/plain": [
       "tensor([156., 464., 111.,  ...,   0.,   0.,   0.])"
      ]
     },
     "execution_count": 20,
     "metadata": {},
     "output_type": "execute_result"
    }
   ],
   "source": [
    "frag_lens"
   ]
  },
  {
   "cell_type": "code",
   "execution_count": 21,
   "id": "7e013b55-8341-4f35-9054-6654ce3e9a22",
   "metadata": {},
   "outputs": [
    {
     "data": {
      "text/plain": [
       "(torch.Size([2048, 2048]), torch.Size([2048, 2048]), torch.Size([1024]))"
      ]
     },
     "execution_count": 21,
     "metadata": {},
     "output_type": "execute_result"
    }
   ],
   "source": [
    "distance_mx.shape, likelihood_mx.shape, frag_coverage.shape"
   ]
  },
  {
   "cell_type": "code",
   "execution_count": 22,
   "id": "70ca2440-7120-4c10-89b1-6f7926250490",
   "metadata": {},
   "outputs": [
    {
     "data": {
      "text/plain": [
       "(torch.Size([1024]), torch.Size([1024, 2]))"
      ]
     },
     "execution_count": 22,
     "metadata": {},
     "output_type": "execute_result"
    }
   ],
   "source": [
    "frag_start_loc_relative.shape, frag_masss_center_relative.shape"
   ]
  },
  {
   "cell_type": "code",
   "execution_count": 23,
   "id": "ac6fd2a5-dca5-4087-a036-cb05a21d8813",
   "metadata": {},
   "outputs": [
    {
     "data": {
      "text/plain": [
       "(torch.Size([1024, 64]), torch.Size([1024, 1024]), True)"
      ]
     },
     "execution_count": 23,
     "metadata": {},
     "output_type": "execute_result"
    }
   ],
   "source": [
    "frag_average_density_global.shape, frag_average_hic_interaction.shape, coverage_flag"
   ]
  },
  {
   "cell_type": "code",
   "execution_count": 24,
   "id": "06dc8e00-05e5-4fdb-be96-2043e518170b",
   "metadata": {},
   "outputs": [
    {
     "data": {
      "text/plain": [
       "(True, torch.Size([1024]), tensor(13033, dtype=torch.int32))"
      ]
     },
     "execution_count": 24,
     "metadata": {},
     "output_type": "execute_result"
    }
   ],
   "source": [
    "repeat_density_flag, frag_repeats_density.shape, total_len_in_pixel"
   ]
  },
  {
   "cell_type": "code",
   "execution_count": 28,
   "id": "21b95c9f-2149-41ec-ade5-5fb46d889d99",
   "metadata": {},
   "outputs": [
    {
     "data": {
      "text/plain": [
       "(torch.Size([1024]), torch.Size([1024]))"
      ]
     },
     "execution_count": 28,
     "metadata": {},
     "output_type": "execute_result"
    }
   ],
   "source": [
    "fragID.shape, scaffID.shape"
   ]
  },
  {
   "cell_type": "code",
   "execution_count": null,
   "id": "fee50d75-ae78-45b6-a8e4-8ef695fbcd44",
   "metadata": {},
   "outputs": [],
   "source": []
  },
  {
   "cell_type": "code",
   "execution_count": null,
   "id": "d2170674-1310-445b-a684-c663e35e601f",
   "metadata": {},
   "outputs": [],
   "source": []
  },
  {
   "cell_type": "code",
   "execution_count": null,
   "id": "eea3e077-fb4c-4f89-aea7-921e89ef117b",
   "metadata": {},
   "outputs": [],
   "source": []
  },
  {
   "cell_type": "code",
   "execution_count": 6,
   "id": "c208c702-9e1b-4436-be36-518a94d81ca4",
   "metadata": {},
   "outputs": [],
   "source": [
    "one_sample_path = f\"../dataset/train_data_madeup/{train_names[0][0]}\""
   ]
  },
  {
   "cell_type": "code",
   "execution_count": 7,
   "id": "f0183345-895f-42df-842d-7c6e87916011",
   "metadata": {},
   "outputs": [
    {
     "data": {
      "text/plain": [
       "Data(x=[15, 74], edge_index=[2, 23], edge_attr=[23, 5], truth=[105, 4], edge_index_test=[2, 105], new_node_idx_to_original_idx=[15])"
      ]
     },
     "execution_count": 7,
     "metadata": {},
     "output_type": "execute_result"
    }
   ],
   "source": [
    "one_sample = train_graphs[0][0].cpu()\n",
    "one_sample"
   ]
  },
  {
   "cell_type": "code",
   "execution_count": 8,
   "id": "cf3ce8bd-2c18-4470-93e9-4f2dad4c6108",
   "metadata": {},
   "outputs": [
    {
     "data": {
      "text/plain": [
       "Data(x=[19, 74], edge_index=[2, 37], edge_attr=[37, 5], truth=[171, 4], edge_index_test=[2, 171], new_node_idx_to_original_idx=[19])"
      ]
     },
     "execution_count": 8,
     "metadata": {},
     "output_type": "execute_result"
    }
   ],
   "source": [
    "vali_sample = vali_graphs[0][0]\n",
    "vali_sample"
   ]
  },
  {
   "cell_type": "code",
   "execution_count": 9,
   "id": "2382f8f2-fefc-4a3f-992f-751d5fffcd37",
   "metadata": {},
   "outputs": [
    {
     "name": "stdout",
     "output_type": "stream",
     "text": [
      "Initializing model...\n",
      "\n",
      "=============================\n",
      "Restored: ../trained_model/likelihood_graph_madeup/checkpoint_20241015-23:43.pth\n",
      "Epoch: 1000\n",
      "Loss_train: 5.0059e-03\n",
      "Loss_vali: 1.0253e-01\n",
      "\n"
     ]
    }
   ],
   "source": [
    "mod, optimizer, _, _ = restore_model(\"../trained_model/likelihood_graph_madeup\", 'cuda')"
   ]
  },
  {
   "cell_type": "code",
   "execution_count": 10,
   "id": "ef0c3aa8-0e6e-4d18-b1f4-63c41b3fce67",
   "metadata": {},
   "outputs": [],
   "source": [
    "device = torch.device(\"cuda\")"
   ]
  },
  {
   "cell_type": "code",
   "execution_count": 11,
   "id": "440dc904-7978-4c27-ab7f-ce24fb283d49",
   "metadata": {},
   "outputs": [],
   "source": [
    "mod = mod.to(device)"
   ]
  },
  {
   "cell_type": "code",
   "execution_count": 12,
   "id": "3a80d3ee-ff41-4056-9dc0-30c81af2992b",
   "metadata": {},
   "outputs": [
    {
     "data": {
      "text/plain": [
       "tensor([[1.0000, 1.0000, 1.0000, 1.0000],\n",
       "        [0.0139, 0.0054, 0.0259, 0.0173],\n",
       "        [1.0000, 1.0000, 1.0000, 1.0000],\n",
       "        [1.0000, 1.0000, 1.0000, 1.0000],\n",
       "        [0.0000, 0.0054, 0.0120, 0.0173],\n",
       "        [1.0000, 1.0000, 1.0000, 1.0000],\n",
       "        [1.0000, 1.0000, 1.0000, 1.0000],\n",
       "        [0.0671, 0.0480, 0.0791, 0.0600],\n",
       "        [1.0000, 1.0000, 1.0000, 1.0000],\n",
       "        [1.0000, 1.0000, 1.0000, 1.0000],\n",
       "        [1.0000, 1.0000, 1.0000, 1.0000],\n",
       "        [1.0000, 1.0000, 1.0000, 1.0000],\n",
       "        [1.0000, 1.0000, 1.0000, 1.0000],\n",
       "        [1.0000, 1.0000, 1.0000, 1.0000],\n",
       "        [0.0120, 0.0382, 0.0000, 0.0262],\n",
       "        [1.0000, 1.0000, 1.0000, 1.0000],\n",
       "        [0.0671, 0.1006, 0.0791, 0.1126],\n",
       "        [0.0480, 0.0139, 0.0600, 0.0259],\n",
       "        [1.0000, 1.0000, 1.0000, 1.0000],\n",
       "        [0.0256, 0.0000, 0.0612, 0.0356],\n",
       "        [0.0433, 0.1213, 0.0077, 0.0857],\n",
       "        [1.0000, 1.0000, 1.0000, 1.0000],\n",
       "        [1.0000, 1.0000, 1.0000, 1.0000],\n",
       "        [1.0000, 1.0000, 1.0000, 1.0000],\n",
       "        [1.0000, 1.0000, 1.0000, 1.0000],\n",
       "        [1.0000, 1.0000, 1.0000, 1.0000],\n",
       "        [0.0356, 0.0433, 0.0000, 0.0077],\n",
       "        [1.0000, 1.0000, 1.0000, 1.0000],\n",
       "        [1.0000, 1.0000, 1.0000, 1.0000],\n",
       "        [1.0000, 1.0000, 1.0000, 1.0000],\n",
       "        [1.0000, 1.0000, 1.0000, 1.0000],\n",
       "        [1.0000, 1.0000, 1.0000, 1.0000],\n",
       "        [1.0000, 1.0000, 1.0000, 1.0000],\n",
       "        [1.0000, 1.0000, 1.0000, 1.0000],\n",
       "        [1.0000, 1.0000, 1.0000, 1.0000],\n",
       "        [1.0000, 1.0000, 1.0000, 1.0000],\n",
       "        [1.0000, 1.0000, 1.0000, 1.0000],\n",
       "        [0.0139, 0.0085, 0.0054, 0.0000],\n",
       "        [1.0000, 1.0000, 1.0000, 1.0000],\n",
       "        [1.0000, 1.0000, 1.0000, 1.0000],\n",
       "        [0.0532, 0.0341, 0.0618, 0.0427],\n",
       "        [1.0000, 1.0000, 1.0000, 1.0000],\n",
       "        [1.0000, 1.0000, 1.0000, 1.0000],\n",
       "        [1.0000, 1.0000, 1.0000, 1.0000],\n",
       "        [1.0000, 1.0000, 1.0000, 1.0000],\n",
       "        [1.0000, 1.0000, 1.0000, 1.0000],\n",
       "        [1.0000, 1.0000, 1.0000, 1.0000],\n",
       "        [0.0259, 0.0521, 0.0173, 0.0436],\n",
       "        [1.0000, 1.0000, 1.0000, 1.0000],\n",
       "        [0.0532, 0.0867, 0.0618, 0.0952],\n",
       "        [0.0341, 0.0000, 0.0427, 0.0085],\n",
       "        [0.0688, 0.1469, 0.0433, 0.1213],\n",
       "        [1.0000, 1.0000, 1.0000, 1.0000],\n",
       "        [1.0000, 1.0000, 1.0000, 1.0000],\n",
       "        [1.0000, 1.0000, 1.0000, 1.0000],\n",
       "        [1.0000, 1.0000, 1.0000, 1.0000],\n",
       "        [1.0000, 1.0000, 1.0000, 1.0000],\n",
       "        [0.0612, 0.0688, 0.0356, 0.0433],\n",
       "        [1.0000, 1.0000, 1.0000, 1.0000],\n",
       "        [1.0000, 1.0000, 1.0000, 1.0000],\n",
       "        [1.0000, 1.0000, 1.0000, 1.0000],\n",
       "        [1.0000, 1.0000, 1.0000, 1.0000],\n",
       "        [1.0000, 1.0000, 1.0000, 1.0000],\n",
       "        [1.0000, 1.0000, 1.0000, 1.0000],\n",
       "        [1.0000, 1.0000, 1.0000, 1.0000],\n",
       "        [1.0000, 1.0000, 1.0000, 1.0000],\n",
       "        [1.0000, 1.0000, 1.0000, 1.0000],\n",
       "        [1.0000, 1.0000, 1.0000, 1.0000],\n",
       "        [1.0000, 1.0000, 1.0000, 1.0000],\n",
       "        [1.0000, 1.0000, 1.0000, 1.0000],\n",
       "        [1.0000, 1.0000, 1.0000, 1.0000],\n",
       "        [0.0077, 0.0000, 0.0857, 0.0780],\n",
       "        [1.0000, 1.0000, 1.0000, 1.0000],\n",
       "        [1.0000, 1.0000, 1.0000, 1.0000],\n",
       "        [1.0000, 1.0000, 1.0000, 1.0000],\n",
       "        [1.0000, 1.0000, 1.0000, 1.0000],\n",
       "        [1.0000, 1.0000, 1.0000, 1.0000],\n",
       "        [1.0000, 1.0000, 1.0000, 1.0000],\n",
       "        [1.0000, 1.0000, 1.0000, 1.0000],\n",
       "        [1.0000, 1.0000, 1.0000, 1.0000],\n",
       "        [1.0000, 1.0000, 1.0000, 1.0000],\n",
       "        [1.0000, 1.0000, 1.0000, 1.0000],\n",
       "        [0.0671, 0.0480, 0.0618, 0.0427],\n",
       "        [1.0000, 1.0000, 1.0000, 1.0000],\n",
       "        [1.0000, 1.0000, 1.0000, 1.0000],\n",
       "        [1.0000, 1.0000, 1.0000, 1.0000],\n",
       "        [1.0000, 1.0000, 1.0000, 1.0000],\n",
       "        [1.0000, 1.0000, 1.0000, 1.0000],\n",
       "        [1.0000, 1.0000, 1.0000, 1.0000],\n",
       "        [0.0120, 0.0382, 0.0173, 0.0436],\n",
       "        [1.0000, 1.0000, 1.0000, 1.0000],\n",
       "        [0.0671, 0.1006, 0.0618, 0.0952],\n",
       "        [0.0480, 0.0139, 0.0427, 0.0085],\n",
       "        [1.0000, 1.0000, 1.0000, 1.0000],\n",
       "        [1.0000, 1.0000, 1.0000, 1.0000],\n",
       "        [1.0000, 1.0000, 1.0000, 1.0000],\n",
       "        [1.0000, 1.0000, 1.0000, 1.0000],\n",
       "        [0.1171, 0.1278, 0.0000, 0.0107],\n",
       "        [1.0000, 1.0000, 1.0000, 1.0000],\n",
       "        [1.0000, 1.0000, 1.0000, 1.0000],\n",
       "        [0.1278, 0.1622, 0.0107, 0.0451],\n",
       "        [1.0000, 1.0000, 1.0000, 1.0000],\n",
       "        [1.0000, 1.0000, 1.0000, 1.0000],\n",
       "        [1.0000, 1.0000, 1.0000, 1.0000],\n",
       "        [1.0000, 1.0000, 1.0000, 1.0000],\n",
       "        [1.0000, 1.0000, 1.0000, 1.0000],\n",
       "        [1.0000, 1.0000, 1.0000, 1.0000],\n",
       "        [1.0000, 1.0000, 1.0000, 1.0000],\n",
       "        [1.0000, 1.0000, 1.0000, 1.0000],\n",
       "        [1.0000, 1.0000, 1.0000, 1.0000],\n",
       "        [1.0000, 1.0000, 1.0000, 1.0000],\n",
       "        [1.0000, 1.0000, 1.0000, 1.0000],\n",
       "        [1.0000, 1.0000, 1.0000, 1.0000],\n",
       "        [1.0000, 1.0000, 1.0000, 1.0000],\n",
       "        [1.0000, 1.0000, 1.0000, 1.0000],\n",
       "        [1.0000, 1.0000, 1.0000, 1.0000],\n",
       "        [1.0000, 1.0000, 1.0000, 1.0000],\n",
       "        [1.0000, 1.0000, 1.0000, 1.0000],\n",
       "        [1.0000, 1.0000, 1.0000, 1.0000],\n",
       "        [1.0000, 1.0000, 1.0000, 1.0000],\n",
       "        [1.0000, 1.0000, 1.0000, 1.0000],\n",
       "        [1.0000, 1.0000, 1.0000, 1.0000],\n",
       "        [0.0791, 0.1053, 0.0600, 0.0862],\n",
       "        [1.0000, 1.0000, 1.0000, 1.0000],\n",
       "        [0.0000, 0.0335, 0.0191, 0.0526],\n",
       "        [0.0191, 0.0532, 0.0000, 0.0341],\n",
       "        [1.0000, 1.0000, 1.0000, 1.0000],\n",
       "        [1.0000, 1.0000, 1.0000, 1.0000],\n",
       "        [0.1266, 0.1561, 0.0569, 0.0864],\n",
       "        [1.0000, 1.0000, 1.0000, 1.0000],\n",
       "        [1.0000, 1.0000, 1.0000, 1.0000],\n",
       "        [1.0000, 1.0000, 1.0000, 1.0000],\n",
       "        [0.1266, 0.0697, 0.0569, 0.0000],\n",
       "        [1.0000, 1.0000, 1.0000, 1.0000],\n",
       "        [1.0000, 1.0000, 1.0000, 1.0000],\n",
       "        [1.0000, 1.0000, 1.0000, 1.0000],\n",
       "        [1.0000, 1.0000, 1.0000, 1.0000],\n",
       "        [1.0000, 1.0000, 1.0000, 1.0000],\n",
       "        [1.0000, 1.0000, 1.0000, 1.0000],\n",
       "        [1.0000, 1.0000, 1.0000, 1.0000],\n",
       "        [1.0000, 1.0000, 1.0000, 1.0000],\n",
       "        [1.0000, 1.0000, 1.0000, 1.0000],\n",
       "        [1.0000, 1.0000, 1.0000, 1.0000],\n",
       "        [1.0000, 1.0000, 1.0000, 1.0000],\n",
       "        [1.0000, 1.0000, 1.0000, 1.0000],\n",
       "        [0.0107, 0.0451, 0.0000, 0.0344],\n",
       "        [1.0000, 1.0000, 1.0000, 1.0000],\n",
       "        [1.0000, 1.0000, 1.0000, 1.0000],\n",
       "        [1.0000, 1.0000, 1.0000, 1.0000],\n",
       "        [1.0000, 1.0000, 1.0000, 1.0000],\n",
       "        [1.0000, 1.0000, 1.0000, 1.0000],\n",
       "        [1.0000, 1.0000, 1.0000, 1.0000],\n",
       "        [1.0000, 1.0000, 1.0000, 1.0000],\n",
       "        [0.0000, 0.0569, 0.0295, 0.0864],\n",
       "        [1.0000, 1.0000, 1.0000, 1.0000],\n",
       "        [1.0000, 1.0000, 1.0000, 1.0000],\n",
       "        [1.0000, 1.0000, 1.0000, 1.0000],\n",
       "        [1.0000, 1.0000, 1.0000, 1.0000],\n",
       "        [1.0000, 1.0000, 1.0000, 1.0000],\n",
       "        [1.0000, 1.0000, 1.0000, 1.0000],\n",
       "        [1.0000, 1.0000, 1.0000, 1.0000],\n",
       "        [1.0000, 1.0000, 1.0000, 1.0000],\n",
       "        [1.0000, 1.0000, 1.0000, 1.0000],\n",
       "        [1.0000, 1.0000, 1.0000, 1.0000],\n",
       "        [1.0000, 1.0000, 1.0000, 1.0000],\n",
       "        [1.0000, 1.0000, 1.0000, 1.0000],\n",
       "        [0.0791, 0.1126, 0.1053, 0.1388],\n",
       "        [0.0600, 0.0259, 0.0862, 0.0521],\n",
       "        [1.0000, 1.0000, 1.0000, 1.0000],\n",
       "        [1.0000, 1.0000, 1.0000, 1.0000],\n",
       "        [0.0191, 0.0532, 0.0526, 0.0867]], device='cuda:0')"
      ]
     },
     "execution_count": 12,
     "metadata": {},
     "output_type": "execute_result"
    }
   ],
   "source": [
    "vali_res = mod.forward(vali_sample)\n",
    "vali_sample.truth"
   ]
  },
  {
   "cell_type": "code",
   "execution_count": 13,
   "id": "d468c4de-914f-4563-9a88-836f51226d43",
   "metadata": {},
   "outputs": [
    {
     "data": {
      "text/plain": [
       "tensor([[0.9987, 0.9995, 0.9976, 0.9983],\n",
       "        [0.0544, 0.0526, 0.0537, 0.0536],\n",
       "        [0.9996, 1.0002, 0.9986, 0.9993],\n",
       "        [1.0007, 1.0017, 0.9992, 0.9997],\n",
       "        [0.0227, 0.0215, 0.0229, 0.0230],\n",
       "        [1.0076, 1.0083, 1.0083, 1.0082],\n",
       "        [1.0058, 1.0061, 1.0050, 1.0052],\n",
       "        [0.0578, 0.0558, 0.0573, 0.0569],\n",
       "        [1.0011, 1.0008, 1.0006, 1.0012],\n",
       "        [0.9970, 0.9979, 0.9958, 0.9966],\n",
       "        [1.0074, 1.0085, 1.0090, 1.0086],\n",
       "        [0.9995, 0.9999, 0.9988, 0.9995],\n",
       "        [1.0020, 1.0023, 1.0011, 1.0015],\n",
       "        [1.0046, 1.0056, 1.0059, 1.0056],\n",
       "        [0.0395, 0.0377, 0.0394, 0.0392],\n",
       "        [0.9944, 0.9942, 0.9939, 0.9951],\n",
       "        [0.1654, 0.1637, 0.1637, 0.1637],\n",
       "        [0.0547, 0.0534, 0.0544, 0.0545],\n",
       "        [1.0008, 1.0014, 0.9997, 1.0003],\n",
       "        [0.0712, 0.0721, 0.0642, 0.0666],\n",
       "        [0.1447, 0.1458, 0.1383, 0.1404],\n",
       "        [0.9990, 0.9998, 0.9979, 0.9986],\n",
       "        [0.9891, 0.9889, 0.9886, 0.9880],\n",
       "        [0.9989, 0.9993, 0.9983, 0.9984],\n",
       "        [0.9998, 1.0002, 0.9984, 0.9986],\n",
       "        [0.9936, 0.9937, 0.9933, 0.9937],\n",
       "        [0.0514, 0.0520, 0.0449, 0.0469],\n",
       "        [0.9947, 0.9941, 0.9946, 0.9937],\n",
       "        [0.9540, 0.9539, 0.9526, 0.9530],\n",
       "        [0.9987, 0.9990, 0.9985, 0.9985],\n",
       "        [0.9917, 0.9911, 0.9915, 0.9906],\n",
       "        [1.0019, 1.0023, 1.0008, 1.0011],\n",
       "        [0.9896, 0.9893, 0.9898, 0.9903],\n",
       "        [1.0021, 1.0023, 1.0010, 1.0010],\n",
       "        [0.9984, 0.9992, 0.9968, 0.9973],\n",
       "        [1.0025, 1.0029, 1.0015, 1.0020],\n",
       "        [1.0037, 1.0045, 1.0024, 1.0025],\n",
       "        [0.0430, 0.0412, 0.0422, 0.0419],\n",
       "        [1.0025, 1.0032, 1.0027, 1.0027],\n",
       "        [1.0071, 1.0072, 1.0064, 1.0064],\n",
       "        [0.0636, 0.0614, 0.0624, 0.0617],\n",
       "        [0.9962, 0.9960, 0.9958, 0.9961],\n",
       "        [0.9993, 0.9999, 0.9981, 0.9987],\n",
       "        [1.0016, 1.0024, 1.0025, 1.0023],\n",
       "        [0.9972, 0.9976, 0.9967, 0.9969],\n",
       "        [1.0016, 1.0018, 1.0005, 1.0009],\n",
       "        [0.9985, 0.9993, 0.9993, 0.9991],\n",
       "        [0.0717, 0.0695, 0.0709, 0.0703],\n",
       "        [0.9899, 0.9896, 0.9894, 0.9903],\n",
       "        [0.1109, 0.1091, 0.1080, 0.1082],\n",
       "        [0.0474, 0.0458, 0.0462, 0.0460],\n",
       "        [0.1717, 0.1728, 0.1650, 0.1676],\n",
       "        [0.9997, 1.0002, 0.9986, 0.9994],\n",
       "        [0.9916, 0.9913, 0.9911, 0.9905],\n",
       "        [1.0022, 1.0024, 1.0014, 1.0017],\n",
       "        [1.0014, 1.0017, 1.0001, 1.0004],\n",
       "        [0.9991, 0.9992, 0.9984, 0.9991],\n",
       "        [0.0748, 0.0756, 0.0680, 0.0702],\n",
       "        [0.9981, 0.9973, 0.9979, 0.9970],\n",
       "        [0.9919, 0.9920, 0.9906, 0.9913],\n",
       "        [1.0030, 1.0031, 1.0026, 1.0027],\n",
       "        [0.9950, 0.9942, 0.9947, 0.9938],\n",
       "        [1.0026, 1.0028, 1.0017, 1.0019],\n",
       "        [0.9967, 0.9962, 0.9964, 0.9971],\n",
       "        [1.0053, 1.0053, 1.0042, 1.0042],\n",
       "        [1.0008, 1.0015, 0.9995, 0.9999],\n",
       "        [1.0010, 1.0019, 0.9994, 0.9999],\n",
       "        [0.9534, 0.9529, 0.9523, 0.9518],\n",
       "        [0.9970, 0.9975, 0.9961, 0.9962],\n",
       "        [1.0024, 1.0031, 1.0007, 1.0006],\n",
       "        [0.8984, 0.8984, 0.8976, 0.8985],\n",
       "        [0.1176, 0.1184, 0.1113, 0.1132],\n",
       "        [0.9860, 0.9854, 0.9858, 0.9849],\n",
       "        [0.7943, 0.7941, 0.7921, 0.7929],\n",
       "        [0.9972, 0.9976, 0.9966, 0.9967],\n",
       "        [0.9822, 0.9817, 0.9819, 0.9810],\n",
       "        [1.0040, 1.0047, 1.0026, 1.0026],\n",
       "        [0.8536, 0.8533, 0.8532, 0.8541],\n",
       "        [1.0048, 1.0054, 1.0035, 1.0032],\n",
       "        [1.0018, 1.0027, 1.0001, 1.0001],\n",
       "        [1.0051, 1.0058, 1.0055, 1.0055],\n",
       "        [1.0052, 1.0054, 1.0043, 1.0044],\n",
       "        [0.0453, 0.0435, 0.0448, 0.0443],\n",
       "        [0.9997, 0.9995, 0.9992, 0.9997],\n",
       "        [0.9974, 0.9982, 0.9962, 0.9969],\n",
       "        [1.0047, 1.0057, 1.0060, 1.0057],\n",
       "        [0.9988, 0.9992, 0.9981, 0.9986],\n",
       "        [1.0019, 1.0022, 1.0008, 1.0011],\n",
       "        [1.0019, 1.0029, 1.0030, 1.0027],\n",
       "        [0.0326, 0.0309, 0.0325, 0.0322],\n",
       "        [0.9933, 0.9930, 0.9927, 0.9938],\n",
       "        [0.1264, 0.1244, 0.1242, 0.1242],\n",
       "        [0.0418, 0.0404, 0.0412, 0.0414],\n",
       "        [1.0048, 1.0044, 1.0041, 1.0043],\n",
       "        [0.9987, 0.9991, 0.9986, 0.9980],\n",
       "        [1.0075, 1.0076, 1.0075, 1.0074],\n",
       "        [0.9845, 0.9843, 0.9840, 0.9834],\n",
       "        [0.1357, 0.1336, 0.1330, 0.1315],\n",
       "        [1.0010, 1.0011, 1.0008, 1.0006],\n",
       "        [1.0027, 1.0028, 1.0022, 1.0028],\n",
       "        [0.1336, 0.1314, 0.1310, 0.1292],\n",
       "        [1.0046, 1.0053, 1.0047, 1.0044],\n",
       "        [1.0031, 1.0031, 1.0034, 1.0032],\n",
       "        [1.0032, 1.0036, 1.0031, 1.0025],\n",
       "        [1.0079, 1.0088, 1.0081, 1.0078],\n",
       "        [1.0077, 1.0077, 1.0069, 1.0065],\n",
       "        [1.0126, 1.0121, 1.0124, 1.0122],\n",
       "        [0.9992, 0.9996, 0.9986, 0.9985],\n",
       "        [1.0051, 1.0048, 1.0053, 1.0053],\n",
       "        [1.0085, 1.0083, 1.0086, 1.0080],\n",
       "        [1.0124, 1.0119, 1.0126, 1.0123],\n",
       "        [1.0026, 1.0023, 1.0025, 1.0025],\n",
       "        [1.0086, 1.0085, 1.0074, 1.0072],\n",
       "        [1.0110, 1.0105, 1.0111, 1.0109],\n",
       "        [1.0111, 1.0110, 1.0101, 1.0098],\n",
       "        [1.0076, 1.0077, 1.0065, 1.0062],\n",
       "        [1.0029, 1.0025, 1.0026, 1.0025],\n",
       "        [0.9980, 0.9984, 0.9966, 0.9968],\n",
       "        [0.9967, 0.9973, 0.9976, 0.9968],\n",
       "        [1.0026, 1.0028, 1.0021, 1.0019],\n",
       "        [1.0049, 1.0050, 1.0037, 1.0035],\n",
       "        [0.9935, 0.9941, 0.9943, 0.9934],\n",
       "        [0.0465, 0.0445, 0.0461, 0.0454],\n",
       "        [0.9967, 0.9963, 0.9963, 0.9969],\n",
       "        [0.0913, 0.0892, 0.0889, 0.0886],\n",
       "        [0.0481, 0.0464, 0.0470, 0.0467],\n",
       "        [0.9911, 0.9914, 0.9909, 0.9915],\n",
       "        [1.0089, 1.0091, 1.0092, 1.0090],\n",
       "        [0.2097, 0.2105, 0.2068, 0.2091],\n",
       "        [1.0024, 1.0023, 1.0018, 1.0021],\n",
       "        [1.0070, 1.0070, 1.0073, 1.0070],\n",
       "        [0.9991, 0.9988, 0.9987, 0.9989],\n",
       "        [0.0941, 0.0949, 0.0931, 0.0933],\n",
       "        [0.9991, 0.9987, 0.9988, 0.9986],\n",
       "        [0.9990, 0.9988, 0.9986, 0.9987],\n",
       "        [0.9902, 0.9895, 0.9901, 0.9891],\n",
       "        [0.9189, 0.9187, 0.9172, 0.9177],\n",
       "        [0.9988, 0.9991, 0.9985, 0.9985],\n",
       "        [0.9871, 0.9864, 0.9868, 0.9858],\n",
       "        [1.0003, 1.0007, 0.9992, 0.9994],\n",
       "        [0.9846, 0.9843, 0.9848, 0.9854],\n",
       "        [1.0002, 1.0005, 0.9991, 0.9992],\n",
       "        [0.9967, 0.9976, 0.9951, 0.9956],\n",
       "        [1.0021, 1.0025, 1.0021, 1.0021],\n",
       "        [1.0037, 1.0038, 1.0041, 1.0044],\n",
       "        [0.0640, 0.0634, 0.0649, 0.0649],\n",
       "        [1.0034, 1.0044, 1.0045, 1.0039],\n",
       "        [1.0037, 1.0038, 1.0044, 1.0041],\n",
       "        [1.0013, 1.0019, 1.0020, 1.0014],\n",
       "        [1.0066, 1.0077, 1.0078, 1.0072],\n",
       "        [0.9991, 0.9992, 0.9991, 0.9988],\n",
       "        [0.9992, 0.9995, 0.9990, 0.9990],\n",
       "        [0.9993, 0.9995, 0.9987, 0.9988],\n",
       "        [0.1697, 0.1701, 0.1677, 0.1692],\n",
       "        [0.9990, 0.9991, 0.9986, 0.9983],\n",
       "        [0.9974, 0.9978, 0.9968, 0.9969],\n",
       "        [1.0011, 1.0012, 1.0013, 1.0016],\n",
       "        [1.0057, 1.0056, 1.0044, 1.0043],\n",
       "        [0.9996, 0.9994, 0.9995, 0.9996],\n",
       "        [1.0070, 1.0071, 1.0057, 1.0057],\n",
       "        [1.0033, 1.0035, 1.0019, 1.0019],\n",
       "        [1.0004, 1.0013, 1.0013, 1.0007],\n",
       "        [1.0018, 1.0019, 1.0025, 1.0022],\n",
       "        [0.9982, 0.9987, 0.9987, 0.9981],\n",
       "        [1.0035, 1.0044, 1.0044, 1.0039],\n",
       "        [0.9930, 0.9927, 0.9925, 0.9935],\n",
       "        [0.1427, 0.1406, 0.1407, 0.1403],\n",
       "        [0.0512, 0.0494, 0.0506, 0.0502],\n",
       "        [0.9925, 0.9921, 0.9922, 0.9925],\n",
       "        [0.9919, 0.9917, 0.9916, 0.9922],\n",
       "        [0.0744, 0.0723, 0.0722, 0.0719]], device='cuda:0',\n",
       "       grad_fn=<MulBackward0>)"
      ]
     },
     "execution_count": 13,
     "metadata": {},
     "output_type": "execute_result"
    }
   ],
   "source": [
    "vali_res"
   ]
  },
  {
   "cell_type": "code",
   "execution_count": 14,
   "id": "b9693a21-da5c-46e5-8c9b-140fd1df2885",
   "metadata": {},
   "outputs": [
    {
     "data": {
      "text/plain": [
       "(torch.Size([171, 4]),\n",
       " Data(x=[19, 74], edge_index=[2, 37], edge_attr=[37, 5], truth=[171, 4], edge_index_test=[2, 171], new_node_idx_to_original_idx=[19]))"
      ]
     },
     "execution_count": 14,
     "metadata": {},
     "output_type": "execute_result"
    }
   ],
   "source": [
    "vali_res.shape, vali_sample"
   ]
  },
  {
   "cell_type": "code",
   "execution_count": 14,
   "id": "72254187-b31d-4a04-ad68-f8c39b8674c2",
   "metadata": {},
   "outputs": [
    {
     "data": {
      "text/plain": [
       "tensor(0, device='cuda:0')"
      ]
     },
     "execution_count": 14,
     "metadata": {},
     "output_type": "execute_result"
    }
   ],
   "source": [
    "((vali_sample.truth<0.5) != (vali_res<0.5)).sum()"
   ]
  },
  {
   "cell_type": "code",
   "execution_count": 15,
   "id": "3f33f196-1864-4f20-95ed-866e2399131c",
   "metadata": {},
   "outputs": [],
   "source": [
    "res = mod.forward(train_graphs[0][0])"
   ]
  },
  {
   "cell_type": "code",
   "execution_count": 16,
   "id": "bdced612-d3ff-4cfe-be69-caf6306b0e72",
   "metadata": {},
   "outputs": [
    {
     "data": {
      "text/plain": [
       "torch.Size([36, 4])"
      ]
     },
     "execution_count": 16,
     "metadata": {},
     "output_type": "execute_result"
    }
   ],
   "source": [
    "res.shape"
   ]
  },
  {
   "cell_type": "code",
   "execution_count": 17,
   "id": "f7b7bee4-fdc5-48ac-8bc0-90372fbeb8b2",
   "metadata": {},
   "outputs": [
    {
     "data": {
      "text/plain": [
       "torch.Size([36, 4])"
      ]
     },
     "execution_count": 17,
     "metadata": {},
     "output_type": "execute_result"
    }
   ],
   "source": [
    "one_sample.truth.shape"
   ]
  },
  {
   "cell_type": "code",
   "execution_count": null,
   "id": "ae5785fa-4b6f-4d92-9eba-ee0beda51488",
   "metadata": {},
   "outputs": [],
   "source": []
  },
  {
   "cell_type": "code",
   "execution_count": 19,
   "id": "b459d680-5b47-4748-9854-295834236a89",
   "metadata": {},
   "outputs": [
    {
     "data": {
      "text/plain": [
       "tensor([[1.0000, 1.0000, 1.0000, 1.0000],\n",
       "        [0.1118, 0.0348, 0.1761, 0.0991],\n",
       "        [1.0000, 1.0000, 1.0000, 1.0000],\n",
       "        [0.0643, 0.0840, 0.0000, 0.0197],\n",
       "        [0.0348, 0.0000, 0.0991, 0.0643],\n",
       "        [1.0000, 1.0000, 1.0000, 1.0000],\n",
       "        [1.0000, 1.0000, 1.0000, 1.0000],\n",
       "        [1.0000, 1.0000, 1.0000, 1.0000],\n",
       "        [1.0000, 1.0000, 1.0000, 1.0000],\n",
       "        [1.0000, 1.0000, 1.0000, 1.0000],\n",
       "        [1.0000, 1.0000, 1.0000, 1.0000],\n",
       "        [1.0000, 1.0000, 1.0000, 1.0000],\n",
       "        [1.0000, 1.0000, 1.0000, 1.0000],\n",
       "        [1.0000, 1.0000, 1.0000, 1.0000],\n",
       "        [1.0000, 1.0000, 1.0000, 1.0000],\n",
       "        [1.0000, 1.0000, 1.0000, 1.0000],\n",
       "        [0.1761, 0.1958, 0.0991, 0.1189],\n",
       "        [0.0770, 0.1118, 0.0000, 0.0348],\n",
       "        [1.0000, 1.0000, 1.0000, 1.0000],\n",
       "        [1.0000, 1.0000, 1.0000, 1.0000],\n",
       "        [1.0000, 1.0000, 1.0000, 1.0000],\n",
       "        [1.0000, 1.0000, 1.0000, 1.0000],\n",
       "        [1.0000, 1.0000, 1.0000, 1.0000],\n",
       "        [1.0000, 1.0000, 1.0000, 1.0000],\n",
       "        [1.0000, 1.0000, 1.0000, 1.0000],\n",
       "        [1.0000, 1.0000, 1.0000, 1.0000],\n",
       "        [0.0991, 0.0643, 0.1189, 0.0840],\n",
       "        [1.0000, 1.0000, 1.0000, 1.0000],\n",
       "        [1.0000, 1.0000, 1.0000, 1.0000],\n",
       "        [1.0000, 1.0000, 1.0000, 1.0000],\n",
       "        [1.0000, 1.0000, 1.0000, 1.0000],\n",
       "        [1.0000, 1.0000, 1.0000, 1.0000],\n",
       "        [1.0000, 1.0000, 1.0000, 1.0000],\n",
       "        [1.0000, 1.0000, 1.0000, 1.0000],\n",
       "        [1.0000, 1.0000, 1.0000, 1.0000],\n",
       "        [1.0000, 1.0000, 1.0000, 1.0000]])"
      ]
     },
     "execution_count": 19,
     "metadata": {},
     "output_type": "execute_result"
    }
   ],
   "source": [
    "one_sample.truth"
   ]
  },
  {
   "cell_type": "code",
   "execution_count": null,
   "id": "42ff3012-ab76-4169-828c-09a661294c2f",
   "metadata": {},
   "outputs": [],
   "source": []
  },
  {
   "cell_type": "code",
   "execution_count": null,
   "id": "1bf249f6-544d-4b5f-aa70-2bfb271e938b",
   "metadata": {},
   "outputs": [],
   "source": []
  },
  {
   "cell_type": "code",
   "execution_count": null,
   "id": "0f6cf93f-b812-49d3-b436-ae05673dc114",
   "metadata": {},
   "outputs": [],
   "source": []
  },
  {
   "cell_type": "code",
   "execution_count": null,
   "id": "e402ceaa-29f7-413f-b60f-6d5ae864f5f8",
   "metadata": {},
   "outputs": [],
   "source": []
  },
  {
   "cell_type": "code",
   "execution_count": null,
   "id": "07775f40-f9c0-4a81-9b43-870b3c629644",
   "metadata": {},
   "outputs": [],
   "source": []
  },
  {
   "cell_type": "code",
   "execution_count": 16,
   "id": "66e886b5-1ff7-4ad2-ad54-8540c82de00f",
   "metadata": {},
   "outputs": [],
   "source": [
    "import pandas as pd"
   ]
  },
  {
   "cell_type": "code",
   "execution_count": 23,
   "id": "e88415d6-bfd8-4799-a7db-3763ecb89d42",
   "metadata": {},
   "outputs": [],
   "source": [
    "batchnorm_df = pd.read_csv(\n",
    "    \"../trained_model/likelihood_graph_madeup/batchnorm.checkpoint_20241016-11:30.csv\"\n",
    ")\n",
    "\n",
    "batchnorm_df['train_mse_num'] = [float(x.replace('tensor(', '').split(',')[0])\n",
    "                                 for x in batchnorm_df['train_mse']]\n",
    "batchnorm_df['vali_mse_num'] = [float(x.replace('tensor(', '').split(',')[0])\n",
    "                                 for x in batchnorm_df['vali_mse']]"
   ]
  },
  {
   "cell_type": "code",
   "execution_count": 38,
   "id": "41c8e6ef-1266-473e-9d7a-dc4305968a84",
   "metadata": {},
   "outputs": [
    {
     "data": {
      "image/png": "[encoded data removed]",
      "text/plain": [
       "<Figure size 640x480 with 1 Axes>"
      ]
     },
     "metadata": {},
     "output_type": "display_data"
    }
   ],
   "source": [
    "plt.plot(batchnorm_df.index, batchnorm_df['train_mse_num'], label='train')\n",
    "plt.plot(batchnorm_df.index, batchnorm_df['vali_mse_num'], label='vali')\n",
    "plt.legend()\n",
    "plt.title(\"With batchnorm & l2\")\n",
    "plt.ylabel(\"MSE\")\n",
    "plt.yscale(\"log\")"
   ]
  },
  {
   "cell_type": "code",
   "execution_count": 48,
   "id": "74e1bec4-4891-458b-bab4-ea68760a1160",
   "metadata": {},
   "outputs": [
    {
     "name": "stderr",
     "output_type": "stream",
     "text": [
      "/tmp/ipykernel_3883918/1952240394.py:13: UserWarning: Attempt to set non-positive ylim on a log-scaled axis will be ignored.\n",
      "  plt.ylim([0, 0.5])\n"
     ]
    },
    {
     "data": {
      "text/plain": [
       "(0.05716251674692049, 0.5)"
      ]
     },
     "execution_count": 48,
     "metadata": {},
     "output_type": "execute_result"
    },
    {
     "data": {
      "image/png": "[encoded data removed]",
      "text/plain": [
       "<Figure size 640x480 with 1 Axes>"
      ]
     },
     "metadata": {},
     "output_type": "display_data"
    }
   ],
   "source": [
    "vae_df = pd.read_csv(\"../trained_model/likelihood_graph_madeup/vgae.checkpoint_20241016-11:53.csv\")\n",
    "vae_df['train_mse_num'] = [float(x.replace('tensor(', '').split(',')[0])\n",
    "                                 for x in vae_df['train_mse']]\n",
    "vae_df['vali_mse_num'] = [float(x.replace('tensor(', '').split(',')[0])\n",
    "                                 for x in vae_df['vali_mse']]\n",
    "\n",
    "plt.plot(vae_df.index, vae_df['train_mse_num'], label='train')\n",
    "plt.plot(vae_df.index, vae_df['vali_mse_num'], label='vali')\n",
    "plt.legend()\n",
    "plt.title(\"VGAE & l2\")\n",
    "plt.ylabel(\"MSE\")\n",
    "plt.yscale(\"log\")\n",
    "plt.ylim([0, 0.5])"
   ]
  },
  {
   "cell_type": "code",
   "execution_count": 47,
   "id": "1238e196-66c8-42b3-afcc-354a4a4c4b76",
   "metadata": {},
   "outputs": [
    {
     "name": "stderr",
     "output_type": "stream",
     "text": [
      "/tmp/ipykernel_3883918/732770841.py:13: UserWarning: Attempt to set non-positive ylim on a log-scaled axis will be ignored.\n",
      "  plt.ylim([0, 0.5])\n"
     ]
    },
    {
     "data": {
      "text/plain": [
       "(0.00036623721979245723, 0.5)"
      ]
     },
     "execution_count": 47,
     "metadata": {},
     "output_type": "execute_result"
    },
    {
     "data": {
      "image/png": "[encoded data removed]",
      "text/plain": [
       "<Figure size 640x480 with 1 Axes>"
      ]
     },
     "metadata": {},
     "output_type": "display_data"
    }
   ],
   "source": [
    "ori_df = pd.read_csv(\"../trained_model/likelihood_graph_madeup/nobatchnorm_nol2.checkpoint_20241016-13:00.csv\")\n",
    "ori_df['train_mse_num'] = [float(x.replace('tensor(', '').split(',')[0])\n",
    "                                 for x in ori_df['train_mse']]\n",
    "ori_df['vali_mse_num'] = [float(x.replace('tensor(', '').split(',')[0])\n",
    "                                 for x in ori_df['vali_mse']]\n",
    "\n",
    "plt.plot(ori_df.index, ori_df['train_mse_num'], label='train')\n",
    "plt.plot(ori_df.index, ori_df['vali_mse_num'], label='vali')\n",
    "plt.legend()\n",
    "plt.title(\"Ori\")\n",
    "plt.ylabel(\"MSE\")\n",
    "plt.yscale(\"log\")\n",
    "plt.ylim([0, 0.5])"
   ]
  },
  {
   "cell_type": "code",
   "execution_count": 53,
   "id": "2ca1b2b0-cf68-4b17-81f7-31443e916516",
   "metadata": {},
   "outputs": [
    {
     "name": "stderr",
     "output_type": "stream",
     "text": [
      "/tmp/ipykernel_3883918/1143335802.py:9: UserWarning: Attempt to set non-positive ylim on a log-scaled axis will be ignored.\n",
      "  axes[0].set_ylim([0, 0.5])\n",
      "/tmp/ipykernel_3883918/1143335802.py:17: UserWarning: Attempt to set non-positive ylim on a log-scaled axis will be ignored.\n",
      "  axes[2].set_ylim([0, 0.5])\n",
      "/tmp/ipykernel_3883918/1143335802.py:25: UserWarning: Attempt to set non-positive ylim on a log-scaled axis will be ignored.\n",
      "  axes[1].set_ylim([0, 0.5])\n"
     ]
    },
    {
     "data": {
      "text/plain": [
       "(0.00036623721979245723, 0.5)"
      ]
     },
     "execution_count": 53,
     "metadata": {},
     "output_type": "execute_result"
    },
    {
     "data": {
      "image/png": "[encoded data removed]",
      "text/plain": [
       "<Figure size 1500x500 with 3 Axes>"
      ]
     },
     "metadata": {},
     "output_type": "display_data"
    }
   ],
   "source": [
    "fig, axes = plt.subplots(1, 3, figsize=(15, 5), sharey=True)\n",
    "\n",
    "axes[0].plot(ori_df.index, ori_df['train_mse_num'], label='train')\n",
    "axes[0].plot(ori_df.index, ori_df['vali_mse_num'], label='vali')\n",
    "axes[0].legend()\n",
    "axes[0].set_title(\"Ori\")\n",
    "axes[0].set_ylabel(\"MSE\")\n",
    "axes[0].set_yscale(\"log\")\n",
    "axes[0].set_ylim([0, 0.5])\n",
    "\n",
    "axes[2].plot(vae_df.index, vae_df['train_mse_num'], label='train')\n",
    "axes[2].plot(vae_df.index, vae_df['vali_mse_num'], label='vali')\n",
    "axes[2].legend()\n",
    "axes[2].set_title(\"VGAE & l2\")\n",
    "axes[2].set_ylabel(\"MSE\")\n",
    "axes[2].set_yscale(\"log\")\n",
    "axes[2].set_ylim([0, 0.5])\n",
    "\n",
    "axes[1].plot(batchnorm_df.index, batchnorm_df['train_mse_num'], label='train')\n",
    "axes[1].plot(batchnorm_df.index, batchnorm_df['vali_mse_num'], label='vali')\n",
    "axes[1].legend()\n",
    "axes[1].set_title(\"With batchnorm & l2\")\n",
    "axes[1].set_ylabel(\"MSE\")\n",
    "axes[1].set_yscale(\"log\")\n",
    "axes[1].set_ylim([0, 0.5])"
   ]
  },
  {
   "cell_type": "code",
   "execution_count": null,
   "id": "be9ffc16-8326-4325-a52b-b9ba22a7b31e",
   "metadata": {},
   "outputs": [],
   "source": []
  },
  {
   "cell_type": "code",
   "execution_count": null,
   "id": "2f461447-1bb2-450b-84f8-03ff20e12b11",
   "metadata": {},
   "outputs": [],
   "source": []
  },
  {
   "cell_type": "code",
   "execution_count": null,
   "id": "32713b4e-aa3e-4208-8a6c-2310fda21d7e",
   "metadata": {},
   "outputs": [],
   "source": []
  }
 ],
 "metadata": {
  "kernelspec": {
   "display_name": "clone_bioalpha",
   "language": "python",
   "name": "clone_bioalpha"
  },
  "language_info": {
   "codemirror_mode": {
    "name": "ipython",
    "version": 3
   },
   "file_extension": ".py",
   "mimetype": "text/x-python",
   "name": "python",
   "nbconvert_exporter": "python",
   "pygments_lexer": "ipython3",
   "version": "3.10.0"
  }
 },
 "nbformat": 4,
 "nbformat_minor": 5
}
