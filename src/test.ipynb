{
 "cells": [
  {
   "cell_type": "code",
   "execution_count": 3,
   "id": "04cca5eb-f931-4bca-9767-9a136ce0f40f",
   "metadata": {},
   "outputs": [],
   "source": [
    "from graphNN_hic_likelihood import *"
   ]
  },
  {
   "cell_type": "code",
   "execution_count": 4,
   "id": "062e2a65-90d7-495b-912f-a7df8182f699",
   "metadata": {},
   "outputs": [
    {
     "data": {
      "text/plain": [
       "True"
      ]
     },
     "execution_count": 4,
     "metadata": {},
     "output_type": "execute_result"
    }
   ],
   "source": [
    "torch.cuda.is_available()"
   ]
  },
  {
   "cell_type": "code",
   "execution_count": 5,
   "id": "1dcf81e3-ced7-46e1-a40d-3194e407f564",
   "metadata": {},
   "outputs": [],
   "source": [
    "device = 'cuda'"
   ]
  },
  {
   "cell_type": "code",
   "execution_count": 11,
   "id": "7a31b06c-69d9-4039-8148-48a3f77e9e9e",
   "metadata": {},
   "outputs": [
    {
     "name": "stdout",
     "output_type": "stream",
     "text": [
      "\n",
      "=============================\n",
      "Data Loading...\n",
      "Number of data Loaded: 240\n",
      "Number of training set: 192\n",
      "Number of validation set: 48\n",
      "====================\n",
      "Number of train data combined: 192\n",
      "Number of vali data combined: 48\n",
      "\n",
      "\n",
      "====================\n",
      "Building training graphs... \n",
      "  batch_size: 32\n",
      "Building vali graphs... \n",
      "  batch_size: 32\n"
     ]
    }
   ],
   "source": [
    "train_graphs, train_names, vali_graphs, vali_names, train_loader, vali_loader = \\\n",
    "read_data(\n",
    "        [\"../dataset/train_data_madeup\"],\n",
    "        device=device,\n",
    "        converage_required_flag=True,\n",
    "        debug_flag=DEBUG)"
   ]
  },
  {
   "cell_type": "code",
   "execution_count": 76,
   "id": "7189f2dd-40fe-4670-be67-d9538cb34fce",
   "metadata": {},
   "outputs": [
    {
     "data": {
      "text/plain": [
       "[DataBatch(x=[528, 74], edge_index=[2, 991], edge_attr=[991, 5], truth=[4592, 4], edge_index_test=[2, 4592], new_node_idx_to_original_idx=[528], batch=[528], ptr=[33]),\n",
       " DataBatch(x=[427, 74], edge_index=[2, 658], edge_attr=[658, 5], truth=[3083, 4], edge_index_test=[2, 3083], new_node_idx_to_original_idx=[427], batch=[427], ptr=[33]),\n",
       " DataBatch(x=[443, 74], edge_index=[2, 716], edge_attr=[716, 5], truth=[3370, 4], edge_index_test=[2, 3370], new_node_idx_to_original_idx=[443], batch=[443], ptr=[33]),\n",
       " DataBatch(x=[425, 74], edge_index=[2, 645], edge_attr=[645, 5], truth=[3022, 4], edge_index_test=[2, 3022], new_node_idx_to_original_idx=[425], batch=[425], ptr=[33]),\n",
       " DataBatch(x=[448, 74], edge_index=[2, 714], edge_attr=[714, 5], truth=[3341, 4], edge_index_test=[2, 3341], new_node_idx_to_original_idx=[448], batch=[448], ptr=[33]),\n",
       " DataBatch(x=[455, 74], edge_index=[2, 796], edge_attr=[796, 5], truth=[3740, 4], edge_index_test=[2, 3740], new_node_idx_to_original_idx=[455], batch=[455], ptr=[33])]"
      ]
     },
     "execution_count": 76,
     "metadata": {},
     "output_type": "execute_result"
    }
   ],
   "source": [
    "train_graphs"
   ]
  },
  {
   "cell_type": "code",
   "execution_count": 74,
   "id": "3b47787e-b4d4-4c5b-8bc4-c29c6521dacc",
   "metadata": {},
   "outputs": [],
   "source": [
    "dataset = CompressedHicFragDataSet([\"../dataset/train_data_madeup\"], \n",
    "                                   coverage_required_flag=True, \n",
    "                                   madeup_flag=True, debug_flag=False)"
   ]
  },
  {
   "cell_type": "code",
   "execution_count": 75,
   "id": "69817255-10d6-4342-98f1-8146a46cca51",
   "metadata": {},
   "outputs": [
    {
     "data": {
      "text/plain": [
       "CompressedHicFragDataSet: 240 samples."
      ]
     },
     "execution_count": 75,
     "metadata": {},
     "output_type": "execute_result"
    }
   ],
   "source": [
    "dataset"
   ]
  },
  {
   "cell_type": "code",
   "execution_count": 49,
   "id": "3379d2fe-6bd1-41ca-8be9-5b2256340e86",
   "metadata": {},
   "outputs": [],
   "source": [
    "hicMx, fragID, scaffID, \\\n",
    "        names, nFrags, frag_lens, \\\n",
    "        distance_mx, likelihood_mx, frag_coverage, \\\n",
    "        frag_start_loc_relative, frag_masss_center_relative, \\\n",
    "        frag_average_density_global, frag_average_hic_interaction, coverage_flag, \\\n",
    "        repeat_density_flag, frag_repeats_density, total_len_in_pixel = next(iter(dataset))"
   ]
  },
  {
   "cell_type": "code",
   "execution_count": 54,
   "id": "f9251900-2454-4cd4-a76c-198ff69987ba",
   "metadata": {},
   "outputs": [
    {
     "data": {
      "text/plain": [
       "(torch.Size([4, 1024, 1024]), torch.Size([1024]), torch.Size([1024]))"
      ]
     },
     "execution_count": 54,
     "metadata": {},
     "output_type": "execute_result"
    }
   ],
   "source": [
    "hicMx.shape, fragID.shape, scaffID.shape"
   ]
  },
  {
   "cell_type": "code",
   "execution_count": 56,
   "id": "8a76dffb-e8e5-40d9-8528-264d5c1bbcdb",
   "metadata": {},
   "outputs": [
    {
     "data": {
      "text/plain": [
       "('chm13_1_normal_numCuts3_numRepeat44', 19, torch.Size([1024]))"
      ]
     },
     "execution_count": 56,
     "metadata": {},
     "output_type": "execute_result"
    }
   ],
   "source": [
    "names, nFrags, frag_lens.shape"
   ]
  },
  {
   "cell_type": "code",
   "execution_count": 71,
   "id": "0577c245-9c66-48d9-955e-4895f2e524ac",
   "metadata": {},
   "outputs": [
    {
     "data": {
      "text/plain": [
       "torch.Size([1024])"
      ]
     },
     "execution_count": 71,
     "metadata": {},
     "output_type": "execute_result"
    }
   ],
   "source": [
    "frag_lens.shape\n"
   ]
  },
  {
   "cell_type": "code",
   "execution_count": 72,
   "id": "9a975ff8-9ccf-47af-8574-e1c3170b5e77",
   "metadata": {},
   "outputs": [
    {
     "data": {
      "text/plain": [
       "19"
      ]
     },
     "execution_count": 72,
     "metadata": {},
     "output_type": "execute_result"
    }
   ],
   "source": [
    "nFrags"
   ]
  },
  {
   "cell_type": "code",
   "execution_count": 69,
   "id": "064dde9e-5c8f-49eb-bcd5-944276405bd9",
   "metadata": {},
   "outputs": [
    {
     "data": {
      "text/plain": [
       "tensor([156., 464., 111.,  ...,   0.,   0.,   0.])"
      ]
     },
     "execution_count": 69,
     "metadata": {},
     "output_type": "execute_result"
    }
   ],
   "source": [
    "frag_lens"
   ]
  },
  {
   "cell_type": "code",
   "execution_count": 57,
   "id": "7e013b55-8341-4f35-9054-6654ce3e9a22",
   "metadata": {},
   "outputs": [
    {
     "data": {
      "text/plain": [
       "(torch.Size([2048, 2048]), torch.Size([2048, 2048]), torch.Size([1024]))"
      ]
     },
     "execution_count": 57,
     "metadata": {},
     "output_type": "execute_result"
    }
   ],
   "source": [
    "distance_mx.shape, likelihood_mx.shape, frag_coverage.shape"
   ]
  },
  {
   "cell_type": "code",
   "execution_count": 58,
   "id": "70ca2440-7120-4c10-89b1-6f7926250490",
   "metadata": {},
   "outputs": [
    {
     "data": {
      "text/plain": [
       "(torch.Size([1024]), torch.Size([1024, 2]))"
      ]
     },
     "execution_count": 58,
     "metadata": {},
     "output_type": "execute_result"
    }
   ],
   "source": [
    "frag_start_loc_relative.shape, frag_masss_center_relative.shape"
   ]
  },
  {
   "cell_type": "code",
   "execution_count": 60,
   "id": "ac6fd2a5-dca5-4087-a036-cb05a21d8813",
   "metadata": {},
   "outputs": [
    {
     "data": {
      "text/plain": [
       "(torch.Size([1024, 64]), torch.Size([1024, 1024]), True)"
      ]
     },
     "execution_count": 60,
     "metadata": {},
     "output_type": "execute_result"
    }
   ],
   "source": [
    "frag_average_density_global.shape, frag_average_hic_interaction.shape, coverage_flag"
   ]
  },
  {
   "cell_type": "code",
   "execution_count": 62,
   "id": "06dc8e00-05e5-4fdb-be96-2043e518170b",
   "metadata": {},
   "outputs": [
    {
     "data": {
      "text/plain": [
       "(True, torch.Size([1024]), tensor(13033, dtype=torch.int32))"
      ]
     },
     "execution_count": 62,
     "metadata": {},
     "output_type": "execute_result"
    }
   ],
   "source": [
    "repeat_density_flag, frag_repeats_density.shape, total_len_in_pixel"
   ]
  },
  {
   "cell_type": "code",
   "execution_count": 66,
   "id": "21b95c9f-2149-41ec-ade5-5fb46d889d99",
   "metadata": {},
   "outputs": [
    {
     "data": {
      "text/plain": [
       "tensor([[  0., 156.,  inf,  ...,   0.,   0.,   0.],\n",
       "        [156.,   0.,  inf,  ...,   0.,   0.,   0.],\n",
       "        [ inf,  inf,   0.,  ...,   0.,   0.,   0.],\n",
       "        ...,\n",
       "        [  0.,   0.,   0.,  ...,   0.,   0.,   0.],\n",
       "        [  0.,   0.,   0.,  ...,   0.,   0.,   0.],\n",
       "        [  0.,   0.,   0.,  ...,   0.,   0.,   0.]])"
      ]
     },
     "execution_count": 66,
     "metadata": {},
     "output_type": "execute_result"
    }
   ],
   "source": [
    "distance_mx"
   ]
  },
  {
   "cell_type": "code",
   "execution_count": null,
   "id": "7c491aea-c2fb-4220-bb35-2c51b91e5c94",
   "metadata": {},
   "outputs": [],
   "source": []
  },
  {
   "cell_type": "code",
   "execution_count": null,
   "id": "fee50d75-ae78-45b6-a8e4-8ef695fbcd44",
   "metadata": {},
   "outputs": [],
   "source": []
  },
  {
   "cell_type": "code",
   "execution_count": null,
   "id": "d2170674-1310-445b-a684-c663e35e601f",
   "metadata": {},
   "outputs": [],
   "source": []
  },
  {
   "cell_type": "code",
   "execution_count": null,
   "id": "eea3e077-fb4c-4f89-aea7-921e89ef117b",
   "metadata": {},
   "outputs": [],
   "source": []
  },
  {
   "cell_type": "code",
   "execution_count": null,
   "id": "c208c702-9e1b-4436-be36-518a94d81ca4",
   "metadata": {},
   "outputs": [],
   "source": [
    "one_sample_path = f\"../dataset/train_data_madeup/{train_names[0][0]}\""
   ]
  },
  {
   "cell_type": "code",
   "execution_count": 18,
   "id": "f0183345-895f-42df-842d-7c6e87916011",
   "metadata": {},
   "outputs": [
    {
     "data": {
      "text/plain": [
       "Data(x=[21, 74], edge_index=[2, 46], edge_attr=[46, 5], truth=[210, 4], edge_index_test=[2, 210], new_node_idx_to_original_idx=[21])"
      ]
     },
     "execution_count": 18,
     "metadata": {},
     "output_type": "execute_result"
    }
   ],
   "source": [
    "one_sample = train_graphs[0][0].cpu()\n",
    "one_sample"
   ]
  },
  {
   "cell_type": "code",
   "execution_count": 24,
   "id": "2382f8f2-fefc-4a3f-992f-751d5fffcd37",
   "metadata": {},
   "outputs": [
    {
     "name": "stdout",
     "output_type": "stream",
     "text": [
      "Initializing model...\n",
      "\n",
      "Warning: No checkpoint file found in ./. Return None.\n"
     ]
    }
   ],
   "source": [
    "mod, optimizer, _, _ = restore_model(\"./\", 'cuda')"
   ]
  },
  {
   "cell_type": "code",
   "execution_count": 29,
   "id": "ef0c3aa8-0e6e-4d18-b1f4-63c41b3fce67",
   "metadata": {},
   "outputs": [],
   "source": [
    "device = torch.device(\"cuda\")"
   ]
  },
  {
   "cell_type": "code",
   "execution_count": 30,
   "id": "440dc904-7978-4c27-ab7f-ce24fb283d49",
   "metadata": {},
   "outputs": [],
   "source": [
    "mod = mod.to(device)"
   ]
  },
  {
   "cell_type": "code",
   "execution_count": 33,
   "id": "3f33f196-1864-4f20-95ed-866e2399131c",
   "metadata": {},
   "outputs": [],
   "source": [
    "res = mod.forward(train_graphs[0][0])"
   ]
  },
  {
   "cell_type": "code",
   "execution_count": 35,
   "id": "bdced612-d3ff-4cfe-be69-caf6306b0e72",
   "metadata": {},
   "outputs": [
    {
     "data": {
      "text/plain": [
       "torch.Size([210, 4])"
      ]
     },
     "execution_count": 35,
     "metadata": {},
     "output_type": "execute_result"
    }
   ],
   "source": [
    "res.shape"
   ]
  },
  {
   "cell_type": "code",
   "execution_count": 77,
   "id": "1bf249f6-544d-4b5f-aa70-2bfb271e938b",
   "metadata": {},
   "outputs": [
    {
     "data": {
      "text/plain": [
       "tensor([[0.0000, 0.0000, 0.0000, 0.0000],\n",
       "        [0.0000, 0.0000, 0.0000, 0.0000],\n",
       "        [0.2281, 0.3134, 0.1005, 0.1380],\n",
       "        [0.0000, 0.0000, 0.0000, 0.0000],\n",
       "        [0.0000, 0.0000, 0.0000, 0.0000],\n",
       "        [0.1663, 0.2270, 0.0731, 0.1000],\n",
       "        [0.0570, 0.0408, 0.1370, 0.0982],\n",
       "        [0.2878, 0.1003, 0.6899, 0.2410],\n",
       "        [0.1336, 0.1648, 0.0583, 0.0724],\n",
       "        [0.0000, 0.0000, 0.0000, 0.0000],\n",
       "        [0.0000, 0.0000, 0.0000, 0.0000],\n",
       "        [0.1023, 0.0563, 0.2457, 0.1355],\n",
       "        [0.0000, 0.0000, 0.0000, 0.0000],\n",
       "        [0.0000, 0.0000, 0.0000, 0.0000],\n",
       "        [0.0000, 0.0000, 0.0000, 0.0000],\n",
       "        [0.0000, 0.0000, 0.0000, 0.0000],\n",
       "        [0.0000, 0.0000, 0.0000, 0.0000],\n",
       "        [0.0413, 0.0371, 0.0994, 0.0890],\n",
       "        [0.0367, 0.0320, 0.0882, 0.0767],\n",
       "        [0.3062, 0.6623, 0.1349, 0.2914],\n",
       "        [0.1921, 0.6410, 0.1676, 0.5593],\n",
       "        [0.0000, 0.0000, 0.0000, 0.0000],\n",
       "        [0.0000, 0.0000, 0.0000, 0.0000],\n",
       "        [0.0000, 0.0000, 0.0000, 0.0000],\n",
       "        [0.0000, 0.0000, 0.0000, 0.0000],\n",
       "        [0.0000, 0.0000, 0.0000, 0.0000],\n",
       "        [0.0000, 0.0000, 0.0000, 0.0000],\n",
       "        [0.0000, 0.0000, 0.0000, 0.0000],\n",
       "        [0.5652, 0.2930, 0.6575, 0.3404],\n",
       "        [0.1067, 0.1140, 0.0930, 0.0994],\n",
       "        [0.0000, 0.0000, 0.0000, 0.0000],\n",
       "        [0.0000, 0.0000, 0.0000, 0.0000],\n",
       "        [0.1639, 0.2014, 0.1430, 0.1757],\n",
       "        [0.0000, 0.0000, 0.0000, 0.0000],\n",
       "        [0.1109, 0.1611, 0.0967, 0.1405],\n",
       "        [0.3017, 0.2506, 0.3504, 0.2906],\n",
       "        [0.0000, 0.0000, 0.0000, 0.0000],\n",
       "        [0.0000, 0.0000, 0.0000, 0.0000],\n",
       "        [0.0000, 0.0000, 0.0000, 0.0000],\n",
       "        [0.0000, 0.0000, 0.0000, 0.0000],\n",
       "        [0.0000, 0.0000, 0.0000, 0.0000],\n",
       "        [0.0000, 0.0000, 0.0000, 0.0000],\n",
       "        [0.0000, 0.0000, 0.0000, 0.0000],\n",
       "        [0.0000, 0.0000, 0.0000, 0.0000],\n",
       "        [0.0000, 0.0000, 0.0000, 0.0000],\n",
       "        [0.0000, 0.0000, 0.0000, 0.0000],\n",
       "        [0.1593, 0.0839, 0.5322, 0.2788],\n",
       "        [0.3213, 0.3412, 0.1014, 0.1079],\n",
       "        [0.0000, 0.0000, 0.0000, 0.0000],\n",
       "        [0.0000, 0.0000, 0.0000, 0.0000],\n",
       "        [0.4867, 0.5987, 0.1543, 0.1897],\n",
       "        [0.0000, 0.0000, 0.0000, 0.0000],\n",
       "        [0.3311, 0.4776, 0.1048, 0.1515],\n",
       "        [0.0865, 0.0734, 0.2874, 0.2421],\n",
       "        [0.0000, 0.0000, 0.0000, 0.0000],\n",
       "        [0.0000, 0.0000, 0.0000, 0.0000],\n",
       "        [0.0000, 0.0000, 0.0000, 0.0000],\n",
       "        [0.0000, 0.0000, 0.0000, 0.0000],\n",
       "        [0.0000, 0.0000, 0.0000, 0.0000],\n",
       "        [0.4564, 0.6220, 0.3317, 0.4520],\n",
       "        [0.0197, 0.0141, 0.0271, 0.0194],\n",
       "        [0.0998, 0.0347, 0.1372, 0.0477],\n",
       "        [0.3689, 0.4523, 0.2681, 0.3287],\n",
       "        [0.0000, 0.0000, 0.0000, 0.0000],\n",
       "        [0.0000, 0.0000, 0.0000, 0.0000],\n",
       "        [0.0355, 0.0195, 0.0487, 0.0268],\n",
       "        [0.0000, 0.0000, 0.0000, 0.0000],\n",
       "        [0.0000, 0.0000, 0.0000, 0.0000],\n",
       "        [0.0000, 0.0000, 0.0000, 0.0000],\n",
       "        [0.0000, 0.0000, 0.0000, 0.0000],\n",
       "        [0.0000, 0.0000, 0.0000, 0.0000],\n",
       "        [0.0143, 0.0128, 0.0196, 0.0176],\n",
       "        [0.0127, 0.0111, 0.0174, 0.0153],\n",
       "        [0.4436, 0.2297, 0.6094, 0.3156],\n",
       "        [0.0000, 0.0000, 0.0000, 0.0000],\n",
       "        [0.0000, 0.0000, 0.0000, 0.0000],\n",
       "        [0.0000, 0.0000, 0.0000, 0.0000],\n",
       "        [0.0000, 0.0000, 0.0000, 0.0000],\n",
       "        [0.0000, 0.0000, 0.0000, 0.0000],\n",
       "        [0.0000, 0.0000, 0.0000, 0.0000],\n",
       "        [0.0000, 0.0000, 0.0000, 0.0000],\n",
       "        [0.0000, 0.0000, 0.0000, 0.0000],\n",
       "        [0.0000, 0.0000, 0.0000, 0.0000],\n",
       "        [0.0000, 0.0000, 0.0000, 0.0000],\n",
       "        [0.0000, 0.0000, 0.0000, 0.0000],\n",
       "        [0.0000, 0.0000, 0.0000, 0.0000],\n",
       "        [0.0000, 0.0000, 0.0000, 0.0000],\n",
       "        [0.0000, 0.0000, 0.0000, 0.0000],\n",
       "        [0.0000, 0.0000, 0.0000, 0.0000],\n",
       "        [0.0000, 0.0000, 0.0000, 0.0000],\n",
       "        [0.0000, 0.0000, 0.0000, 0.0000],\n",
       "        [0.0000, 0.0000, 0.0000, 0.0000],\n",
       "        [0.0000, 0.0000, 0.0000, 0.0000],\n",
       "        [0.0000, 0.0000, 0.0000, 0.0000],\n",
       "        [0.0000, 0.0000, 0.0000, 0.0000],\n",
       "        [0.0000, 0.0000, 0.0000, 0.0000],\n",
       "        [0.0000, 0.0000, 0.0000, 0.0000],\n",
       "        [0.0000, 0.0000, 0.0000, 0.0000],\n",
       "        [0.0000, 0.0000, 0.0000, 0.0000],\n",
       "        [0.0000, 0.0000, 0.0000, 0.0000],\n",
       "        [0.0000, 0.0000, 0.0000, 0.0000],\n",
       "        [0.0000, 0.0000, 0.0000, 0.0000],\n",
       "        [0.0000, 0.0000, 0.0000, 0.0000],\n",
       "        [0.0000, 0.0000, 0.0000, 0.0000],\n",
       "        [0.0000, 0.0000, 0.0000, 0.0000],\n",
       "        [0.0145, 0.0104, 0.0196, 0.0140],\n",
       "        [0.0727, 0.0254, 0.0994, 0.0346],\n",
       "        [0.5739, 0.7162, 0.3676, 0.4501],\n",
       "        [0.0000, 0.0000, 0.0000, 0.0000],\n",
       "        [0.0000, 0.0000, 0.0000, 0.0000],\n",
       "        [0.0259, 0.0143, 0.0353, 0.0194],\n",
       "        [0.0000, 0.0000, 0.0000, 0.0000],\n",
       "        [0.0000, 0.0000, 0.0000, 0.0000],\n",
       "        [0.0000, 0.0000, 0.0000, 0.0000],\n",
       "        [0.0000, 0.0000, 0.0000, 0.0000],\n",
       "        [0.0000, 0.0000, 0.0000, 0.0000],\n",
       "        [0.0105, 0.0094, 0.0142, 0.0128],\n",
       "        [0.0093, 0.0081, 0.0126, 0.0111],\n",
       "        [0.3244, 0.1673, 0.4413, 0.2286],\n",
       "        [0.1361, 0.3319, 0.0975, 0.2377],\n",
       "        [0.0119, 0.0143, 0.0085, 0.0103],\n",
       "        [0.0000, 0.0000, 0.0000, 0.0000],\n",
       "        [0.0000, 0.0000, 0.0000, 0.0000],\n",
       "        [0.3392, 0.5390, 0.2430, 0.3859],\n",
       "        [0.0000, 0.0000, 0.0000, 0.0000],\n",
       "        [0.0000, 0.0000, 0.0000, 0.0000],\n",
       "        [0.0000, 0.0000, 0.0000, 0.0000],\n",
       "        [0.0000, 0.0000, 0.0000, 0.0000],\n",
       "        [0.0000, 0.0000, 0.0000, 0.0000],\n",
       "        [0.3961, 0.3559, 0.5424, 0.4875],\n",
       "        [0.3521, 0.3114, 0.4822, 0.4270],\n",
       "        [0.0264, 0.0574, 0.0189, 0.0411],\n",
       "        [0.0581, 0.0720, 0.0207, 0.0252],\n",
       "        [0.0000, 0.0000, 0.0000, 0.0000],\n",
       "        [0.0000, 0.0000, 0.0000, 0.0000],\n",
       "        [0.2442, 0.1346, 0.5982, 0.3280],\n",
       "        [0.0000, 0.0000, 0.0000, 0.0000],\n",
       "        [0.0000, 0.0000, 0.0000, 0.0000],\n",
       "        [0.0000, 0.0000, 0.0000, 0.0000],\n",
       "        [0.0000, 0.0000, 0.0000, 0.0000],\n",
       "        [0.0000, 0.0000, 0.0000, 0.0000],\n",
       "        [0.0987, 0.0885, 0.2409, 0.2163],\n",
       "        [0.0876, 0.0763, 0.2140, 0.1884],\n",
       "        [0.1341, 0.2897, 0.0466, 0.1010],\n",
       "        [0.0000, 0.0000, 0.0000, 0.0000],\n",
       "        [0.0000, 0.0000, 0.0000, 0.0000],\n",
       "        [0.0210, 0.0118, 0.0257, 0.0142],\n",
       "        [0.0000, 0.0000, 0.0000, 0.0000],\n",
       "        [0.0000, 0.0000, 0.0000, 0.0000],\n",
       "        [0.0000, 0.0000, 0.0000, 0.0000],\n",
       "        [0.0000, 0.0000, 0.0000, 0.0000],\n",
       "        [0.0000, 0.0000, 0.0000, 0.0000],\n",
       "        [0.0086, 0.0077, 0.0104, 0.0093],\n",
       "        [0.0076, 0.0064, 0.0092, 0.0080],\n",
       "        [0.2637, 0.1342, 0.3214, 0.1659],\n",
       "        [0.0892, 0.0950, 0.0453, 0.0489],\n",
       "        [0.0000, 0.0000, 0.0000, 0.0000],\n",
       "        [0.0000, 0.0000, 0.0000, 0.0000],\n",
       "        [0.1361, 0.1674, 0.0711, 0.0874],\n",
       "        [0.0000, 0.0000, 0.0000, 0.0000],\n",
       "        [0.0924, 0.1337, 0.0478, 0.0701],\n",
       "        [0.3369, 0.2826, 0.9148, 0.7351],\n",
       "        [0.0000, 0.0000, 0.0000, 0.0000],\n",
       "        [0.0000, 0.0000, 0.0000, 0.0000],\n",
       "        [0.0000, 0.0000, 0.0000, 0.0000],\n",
       "        [0.0000, 0.0000, 0.0000, 0.0000],\n",
       "        [0.0000, 0.0000, 0.0000, 0.0000],\n",
       "        [0.4066, 0.3351, 0.4331, 0.3572],\n",
       "        [0.0000, 0.0000, 0.0000, 0.0000],\n",
       "        [0.6684, 0.4004, 0.7150, 0.4260],\n",
       "        [0.0465, 0.0376, 0.0503, 0.0414],\n",
       "        [0.0000, 0.0000, 0.0000, 0.0000],\n",
       "        [0.0000, 0.0000, 0.0000, 0.0000],\n",
       "        [0.0000, 0.0000, 0.0000, 0.0000],\n",
       "        [0.0000, 0.0000, 0.0000, 0.0000],\n",
       "        [0.0000, 0.0000, 0.0000, 0.0000],\n",
       "        [0.0000, 0.0000, 0.0000, 0.0000],\n",
       "        [0.0000, 0.0000, 0.0000, 0.0000],\n",
       "        [0.0000, 0.0000, 0.0000, 0.0000],\n",
       "        [0.2462, 0.2209, 0.3913, 0.3517],\n",
       "        [0.2186, 0.1919, 0.3479, 0.3082],\n",
       "        [0.0475, 0.1031, 0.0261, 0.0568],\n",
       "        [0.0000, 0.0000, 0.0000, 0.0000],\n",
       "        [0.0000, 0.0000, 0.0000, 0.0000],\n",
       "        [0.0000, 0.0000, 0.0000, 0.0000],\n",
       "        [0.0000, 0.0000, 0.0000, 0.0000],\n",
       "        [0.0000, 0.0000, 0.0000, 0.0000],\n",
       "        [0.0000, 0.0000, 0.0000, 0.0000],\n",
       "        [0.0000, 0.0000, 0.0000, 0.0000],\n",
       "        [0.0000, 0.0000, 0.0000, 0.0000],\n",
       "        [0.4208, 0.6090, 0.3471, 0.5026],\n",
       "        [0.0733, 0.0616, 0.0900, 0.0755],\n",
       "        [0.0000, 0.0000, 0.0000, 0.0000],\n",
       "        [0.0000, 0.0000, 0.0000, 0.0000],\n",
       "        [0.0000, 0.0000, 0.0000, 0.0000],\n",
       "        [0.0000, 0.0000, 0.0000, 0.0000],\n",
       "        [0.0000, 0.0000, 0.0000, 0.0000],\n",
       "        [0.0000, 0.0000, 0.0000, 0.0000],\n",
       "        [0.0000, 0.0000, 0.0000, 0.0000],\n",
       "        [0.0000, 0.0000, 0.0000, 0.0000],\n",
       "        [0.0492, 0.0407, 0.0723, 0.0609],\n",
       "        [0.0000, 0.0000, 0.0000, 0.0000],\n",
       "        [0.0000, 0.0000, 0.0000, 0.0000],\n",
       "        [0.0000, 0.0000, 0.0000, 0.0000],\n",
       "        [0.0000, 0.0000, 0.0000, 0.0000],\n",
       "        [0.0000, 0.0000, 0.0000, 0.0000],\n",
       "        [0.0000, 0.0000, 0.0000, 0.0000],\n",
       "        [0.4887, 0.4320, 0.5720, 0.5039],\n",
       "        [0.0192, 0.0416, 0.0172, 0.0373],\n",
       "        [0.0170, 0.0370, 0.0150, 0.0322]], device='cuda:0')"
      ]
     },
     "execution_count": 77,
     "metadata": {},
     "output_type": "execute_result"
    }
   ],
   "source": [
    "one_sample"
   ]
  },
  {
   "cell_type": "code",
   "execution_count": null,
   "id": "0f6cf93f-b812-49d3-b436-ae05673dc114",
   "metadata": {},
   "outputs": [],
   "source": []
  },
  {
   "cell_type": "code",
   "execution_count": null,
   "id": "e88415d6-bfd8-4799-a7db-3763ecb89d42",
   "metadata": {},
   "outputs": [],
   "source": []
  },
  {
   "cell_type": "code",
   "execution_count": null,
   "id": "41c8e6ef-1266-473e-9d7a-dc4305968a84",
   "metadata": {},
   "outputs": [],
   "source": []
  }
 ],
 "metadata": {
  "kernelspec": {
   "display_name": "clone_bioalpha",
   "language": "python",
   "name": "clone_bioalpha"
  },
  "language_info": {
   "codemirror_mode": {
    "name": "ipython",
    "version": 3
   },
   "file_extension": ".py",
   "mimetype": "text/x-python",
   "name": "python",
   "nbconvert_exporter": "python",
   "pygments_lexer": "ipython3",
   "version": "3.10.0"
  }
 },
 "nbformat": 4,
 "nbformat_minor": 5
}
